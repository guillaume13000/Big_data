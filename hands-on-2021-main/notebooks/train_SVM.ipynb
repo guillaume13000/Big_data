{
 "cells": [
  {
   "cell_type": "markdown",
   "id": "ordinary-premises",
   "metadata": {},
   "source": [
    "### Importing packages"
   ]
  },
  {
   "cell_type": "code",
   "execution_count": 1,
   "id": "broadband-charter",
   "metadata": {},
   "outputs": [],
   "source": [
    "import datetime\n",
    "import glob\n",
    "import joblib\n",
    "import os\n",
    "import pathlib\n",
    "import pickle\n",
    "import subprocess\n",
    "import yaml\n",
    "\n",
    "import matplotlib.pyplot as plt\n",
    "import numpy as np\n",
    "import pandas as pd\n",
    "import seaborn as sns\n",
    "\n",
    "from keras.models import load_model\n",
    "from PIL import Image\n",
    "from sklearn import svm, metrics, datasets\n",
    "from sklearn.model_selection import train_test_split, GridSearchCV\n",
    "from sklearn.preprocessing import StandardScaler"
   ]
  },
  {
   "cell_type": "markdown",
   "id": "taken-thermal",
   "metadata": {},
   "source": [
    "### Setting parameters from .yaml file"
   ]
  },
  {
   "cell_type": "code",
   "execution_count": 2,
   "id": "promising-explosion",
   "metadata": {},
   "outputs": [],
   "source": [
    "with open('params.yaml') as yaml_data:\n",
    "    \n",
    "    params = yaml.safe_load(yaml_data)\n",
    "\n",
    "TRAINING_CSV_PATH = params[0]['TRAINING_CSV_PATH']\n",
    "IMAGE_WIDTH = params[1]['IMAGE_WIDTH']\n",
    "IMAGE_HEIGHT = params[2]['IMAGE_HEIGHT']\n",
    "N = params[3]['N_sample']\n",
    "test_sample = params[4]['test_split']\n",
    "random_state = params[5]['random_state']"
   ]
  },
  {
   "cell_type": "markdown",
   "id": "timely-relief",
   "metadata": {},
   "source": [
    "# Image reading"
   ]
  },
  {
   "cell_type": "code",
   "execution_count": 3,
   "id": "violent-complement",
   "metadata": {},
   "outputs": [],
   "source": [
    "def build_images_database(path):\n",
    "    \"\"\"Build a pandas DataFrame with all images information.\n",
    "    \n",
    "    Parameters\n",
    "    ----------\n",
    "    path: path pattern to read csv files containing images information\n",
    "    \n",
    "    Returns\n",
    "    -------\n",
    "    A pandas DataFrame with one line per image\n",
    "    \"\"\"\n",
    "    df_list = []\n",
    "    for filename in glob.glob(path):\n",
    "        df = pd.read_csv(filename, sep=';')\n",
    "        df['path'] = os.path.dirname(filename) + '/' + df['Filename']\n",
    "        df_list.append(df)\n",
    "    \n",
    "    return pd.concat(df_list, ignore_index=True)\n",
    "\n",
    "\n",
    "def build_images_list(filename_list, boxes_list=None):\n",
    "    \"\"\"Build a list of images as Numpy array\n",
    "    \n",
    "    Parameters\n",
    "    ----------\n",
    "    filename_list: list of images filenames\n",
    "    boxes_list: optional list of boxes for clipping within images. Boxes are 4-tuples (x1, y1, x2, y2).\n",
    "    \n",
    "    Returns\n",
    "    -------\n",
    "    A list of images as Numpy arrays\n",
    "    \n",
    "    \"\"\"\n",
    "    \n",
    "    # If no boxes_list is given, generate a fake boxes list with None boxes\n",
    "    # image.resize will take full size images if argument box == None\n",
    "    if boxes_list is None:\n",
    "        boxes_list = [None] * len(filename_list)\n",
    "        \n",
    "    assert len(filename_list) == len(boxes_list), \"filenames and boxes lists must have the same length\"\n",
    "    \n",
    "    images_list = []\n",
    "    for (filename, image_box) in zip(filename_list, boxes_list):\n",
    "        image = Image.open(filename)\n",
    "        image = image.resize((IMAGE_WIDTH, IMAGE_HEIGHT), box=image_box) # box argument clips image to (x1, y1, x2, y2)\n",
    "        image = np.array(image)\n",
    "        images_list.append(image)\n",
    "        \n",
    "    return images_list\n",
    "\n",
    "\n",
    "def build_classes_array(df, col_name='ClassId'):\n",
    "    \"\"\"Build a vector (numpy array) of classes\n",
    "    \n",
    "    Parameters\n",
    "    ----------\n",
    "    df: pandas DataFrame with a column containing classes id\n",
    "    \n",
    "    Returns\n",
    "    -------\n",
    "    Numpy array with image classes\n",
    "    \n",
    "    \"\"\"\n",
    "    return df[col_name].values\n"
   ]
  },
  {
   "cell_type": "code",
   "execution_count": 4,
   "id": "extraordinary-toyota",
   "metadata": {},
   "outputs": [
    {
     "data": {
      "text/html": [
       "<div>\n",
       "<style scoped>\n",
       "    .dataframe tbody tr th:only-of-type {\n",
       "        vertical-align: middle;\n",
       "    }\n",
       "\n",
       "    .dataframe tbody tr th {\n",
       "        vertical-align: top;\n",
       "    }\n",
       "\n",
       "    .dataframe thead th {\n",
       "        text-align: right;\n",
       "    }\n",
       "</style>\n",
       "<table border=\"1\" class=\"dataframe\">\n",
       "  <thead>\n",
       "    <tr style=\"text-align: right;\">\n",
       "      <th></th>\n",
       "      <th>Filename</th>\n",
       "      <th>Width</th>\n",
       "      <th>Height</th>\n",
       "      <th>Roi.X1</th>\n",
       "      <th>Roi.Y1</th>\n",
       "      <th>Roi.X2</th>\n",
       "      <th>Roi.Y2</th>\n",
       "      <th>ClassId</th>\n",
       "      <th>path</th>\n",
       "    </tr>\n",
       "  </thead>\n",
       "  <tbody>\n",
       "    <tr>\n",
       "      <th>0</th>\n",
       "      <td>00000_00000.ppm</td>\n",
       "      <td>29</td>\n",
       "      <td>30</td>\n",
       "      <td>5</td>\n",
       "      <td>6</td>\n",
       "      <td>24</td>\n",
       "      <td>25</td>\n",
       "      <td>0</td>\n",
       "      <td>../data/raw/GTSRB_Final_Training_Images/GTSRB/...</td>\n",
       "    </tr>\n",
       "    <tr>\n",
       "      <th>1</th>\n",
       "      <td>00000_00001.ppm</td>\n",
       "      <td>30</td>\n",
       "      <td>30</td>\n",
       "      <td>5</td>\n",
       "      <td>5</td>\n",
       "      <td>25</td>\n",
       "      <td>25</td>\n",
       "      <td>0</td>\n",
       "      <td>../data/raw/GTSRB_Final_Training_Images/GTSRB/...</td>\n",
       "    </tr>\n",
       "    <tr>\n",
       "      <th>2</th>\n",
       "      <td>00000_00002.ppm</td>\n",
       "      <td>30</td>\n",
       "      <td>30</td>\n",
       "      <td>5</td>\n",
       "      <td>5</td>\n",
       "      <td>25</td>\n",
       "      <td>25</td>\n",
       "      <td>0</td>\n",
       "      <td>../data/raw/GTSRB_Final_Training_Images/GTSRB/...</td>\n",
       "    </tr>\n",
       "    <tr>\n",
       "      <th>3</th>\n",
       "      <td>00000_00003.ppm</td>\n",
       "      <td>31</td>\n",
       "      <td>31</td>\n",
       "      <td>5</td>\n",
       "      <td>5</td>\n",
       "      <td>26</td>\n",
       "      <td>26</td>\n",
       "      <td>0</td>\n",
       "      <td>../data/raw/GTSRB_Final_Training_Images/GTSRB/...</td>\n",
       "    </tr>\n",
       "    <tr>\n",
       "      <th>4</th>\n",
       "      <td>00000_00004.ppm</td>\n",
       "      <td>30</td>\n",
       "      <td>32</td>\n",
       "      <td>5</td>\n",
       "      <td>6</td>\n",
       "      <td>25</td>\n",
       "      <td>26</td>\n",
       "      <td>0</td>\n",
       "      <td>../data/raw/GTSRB_Final_Training_Images/GTSRB/...</td>\n",
       "    </tr>\n",
       "  </tbody>\n",
       "</table>\n",
       "</div>"
      ],
      "text/plain": [
       "          Filename  Width  Height  Roi.X1  Roi.Y1  Roi.X2  Roi.Y2  ClassId  \\\n",
       "0  00000_00000.ppm     29      30       5       6      24      25        0   \n",
       "1  00000_00001.ppm     30      30       5       5      25      25        0   \n",
       "2  00000_00002.ppm     30      30       5       5      25      25        0   \n",
       "3  00000_00003.ppm     31      31       5       5      26      26        0   \n",
       "4  00000_00004.ppm     30      32       5       6      25      26        0   \n",
       "\n",
       "                                                path  \n",
       "0  ../data/raw/GTSRB_Final_Training_Images/GTSRB/...  \n",
       "1  ../data/raw/GTSRB_Final_Training_Images/GTSRB/...  \n",
       "2  ../data/raw/GTSRB_Final_Training_Images/GTSRB/...  \n",
       "3  ../data/raw/GTSRB_Final_Training_Images/GTSRB/...  \n",
       "4  ../data/raw/GTSRB_Final_Training_Images/GTSRB/...  "
      ]
     },
     "execution_count": 4,
     "metadata": {},
     "output_type": "execute_result"
    }
   ],
   "source": [
    "images_df = build_images_database(TRAINING_CSV_PATH)\n",
    "images_df.head()"
   ]
  },
  {
   "cell_type": "code",
   "execution_count": 5,
   "id": "according-queue",
   "metadata": {},
   "outputs": [
    {
     "name": "stdout",
     "output_type": "stream",
     "text": [
      "(39209, 30, 30, 3) (39209,)\n"
     ]
    }
   ],
   "source": [
    "N = 5000\n",
    "N = None # Take all\n",
    "\n",
    "if N is None:\n",
    "  images_list = build_images_list(images_df['path'].values,\n",
    "                                  images_df.apply(lambda r: (r['Roi.X1'], r['Roi.Y1'], r['Roi.X2'], r['Roi.Y2']),\n",
    "                                                        axis=1).values)\n",
    "  data = np.array(images_list)\n",
    "  labels = build_classes_array(images_df)\n",
    "else:\n",
    "  images_list = build_images_list(images_df.head(N)['path'].values,\n",
    "                                  images_df.head(N).apply(lambda r: (r['Roi.X1'], r['Roi.Y1'], r['Roi.X2'], r['Roi.Y2']),\n",
    "                                                            axis=1).values)\n",
    "  data = np.array(images_list)\n",
    "  labels = build_classes_array(images_df)[:N]\n",
    "\n",
    "print(data.shape, labels.shape)"
   ]
  },
  {
   "cell_type": "markdown",
   "id": "optional-sydney",
   "metadata": {},
   "source": [
    "# Model training"
   ]
  },
  {
   "cell_type": "markdown",
   "id": "running-maximum",
   "metadata": {},
   "source": [
    "### Preparing the data"
   ]
  },
  {
   "cell_type": "code",
   "execution_count": 6,
   "id": "weird-brooks",
   "metadata": {},
   "outputs": [
    {
     "name": "stdout",
     "output_type": "stream",
     "text": [
      "(31367, 2700) (7842, 2700) (31367,) (7842,)\n"
     ]
    }
   ],
   "source": [
    "#Splitting training and testing dataset\n",
    "X_train, X_test, y_train, y_test = train_test_split(data, labels, test_size=test_sample, random_state = random_state)\n",
    "\n",
    "train_size = X_train.shape[0]\n",
    "test_size = X_test.shape[0]\n",
    "\n",
    "X_train = X_train.reshape(train_size,-1)\n",
    "X_test = X_test.reshape(test_size,-1)\n",
    "\n",
    "print(X_train.shape, X_test.shape, y_train.shape, y_test.shape)"
   ]
  },
  {
   "cell_type": "markdown",
   "id": "square-recipe",
   "metadata": {},
   "source": [
    "### Model estimation"
   ]
  },
  {
   "cell_type": "code",
   "execution_count": 9,
   "id": "coordinate-mexican",
   "metadata": {},
   "outputs": [
    {
     "data": {
      "text/plain": [
       "0.9702881917878092"
      ]
     },
     "execution_count": 9,
     "metadata": {},
     "output_type": "execute_result"
    }
   ],
   "source": [
    "# now to Now predict the value of the digit on the test data\n",
    "classifier = svm.SVC(kernel='linear', C=1, decision_function_shape='ovo').fit(X_train, y_train)\n",
    "\n",
    "y_pred = classifier.predict(X_test)\n",
    "\n",
    "metrics.accuracy_score(y_test, y_pred)"
   ]
  },
  {
   "cell_type": "markdown",
   "id": "based-anthony",
   "metadata": {},
   "source": [
    "### Saving model"
   ]
  },
  {
   "cell_type": "code",
   "execution_count": 11,
   "id": "gross-punishment",
   "metadata": {},
   "outputs": [],
   "source": [
    "def save_classifier(model, basename):\n",
    "    \"\"\"Save with joblib to pkl format a SVM model with a timestamp\n",
    "\n",
    "    Paramaters\n",
    "    ----------\n",
    "    model: trained tf model\n",
    "    basename: basename including path to use for filename\n",
    "\n",
    "    Returns\n",
    "    -------\n",
    "    None\n",
    "    \"\"\"\n",
    "    #joblib.dump(clf, 'D:/0_AMSE/0-AMSE/Mag_3/Big_Data/hands-on-2021/models/'+'{}_{}.pkl'.format(basename, \n",
    "                                                                                            #datetime.datetime.now().strftime('%Y-%m-%d_%H-%M-%S')))\n",
    "    #model.save('{}_{}.h5'.format(basename, datetime.datetime.now().strftime('%Y-%m-%d_%H-%M-%S')))\n",
    "    \n",
    "    filename = '../models/{}_{}.pkl'.format(basename, datetime.datetime.now().strftime('%Y-%m-%d_%H-%M-%S'))\n",
    "    pickle.dump(model, open(filename, 'wb'))\n",
    "    return"
   ]
  },
  {
   "cell_type": "code",
   "execution_count": 12,
   "id": "established-making",
   "metadata": {},
   "outputs": [],
   "source": [
    "save_classifier(classifier, 'traffic_signs')"
   ]
  },
  {
   "cell_type": "markdown",
   "id": "valued-commodity",
   "metadata": {},
   "source": [
    "### Loading and testing model"
   ]
  },
  {
   "cell_type": "code",
   "execution_count": 35,
   "id": "known-front",
   "metadata": {},
   "outputs": [],
   "source": [
    "classifier_load = pickle.load(open('../models/traffic_signs_2021-03-31_13-58-06.pkl', 'rb'))"
   ]
  },
  {
   "cell_type": "code",
   "execution_count": 13,
   "id": "undefined-excitement",
   "metadata": {},
   "outputs": [],
   "source": [
    "def classify_image_svm(path, model, image_box=None):\n",
    "    \"\"\"Classify image by model\n",
    "\n",
    "    Parameters\n",
    "    ----------\n",
    "    path: filepath to image\n",
    "    model: tf/keras classifier\n",
    "\n",
    "    Returns\n",
    "    -------\n",
    "    class id with highest probability is returned\n",
    "    \"\"\"\n",
    "    images_list = []\n",
    "    image = Image.open(path)\n",
    "    image = image.resize((IMAGE_WIDTH, IMAGE_HEIGHT), box=image_box) # box argument clips image to (x1, y1, x2, y2)\n",
    "    image = np.array(image)\n",
    "    images_list.append(image)\n",
    "\n",
    "    return model.predict(np.array(images_list).reshape(1, -1))"
   ]
  },
  {
   "cell_type": "code",
   "execution_count": 37,
   "id": "statistical-clear",
   "metadata": {},
   "outputs": [
    {
     "name": "stdout",
     "output_type": "stream",
     "text": [
      "[22]\n"
     ]
    },
    {
     "data": {
      "text/plain": [
       "<matplotlib.image.AxesImage at 0x1b914703310>"
      ]
     },
     "execution_count": 37,
     "metadata": {},
     "output_type": "execute_result"
    },
    {
     "data": {
      "image/png": "[encoded data removed]",
      "text/plain": [
       "<Figure size 432x288 with 1 Axes>"
      ]
     },
     "metadata": {
      "needs_background": "light"
     },
     "output_type": "display_data"
    }
   ],
   "source": [
    "image_sample = images_df.sample(1)\n",
    "\n",
    "\n",
    "result = classify_image_svm(image_sample['path'].values[0],\n",
    "               classifier_load,\n",
    "               image_sample.apply(lambda r: (r['Roi.X1'], r['Roi.Y1'], r['Roi.X2'], r['Roi.Y2']),\n",
    "                                  axis=1).values[0]\n",
    "               )\n",
    "print(result)\n",
    "\n",
    "plt.imshow(Image.open(image_sample['path'].values[0]))"
   ]
  },
  {
   "cell_type": "code",
   "execution_count": 38,
   "id": "victorian-basic",
   "metadata": {},
   "outputs": [
    {
     "data": {
      "text/html": [
       "<div>\n",
       "<style scoped>\n",
       "    .dataframe tbody tr th:only-of-type {\n",
       "        vertical-align: middle;\n",
       "    }\n",
       "\n",
       "    .dataframe tbody tr th {\n",
       "        vertical-align: top;\n",
       "    }\n",
       "\n",
       "    .dataframe thead th {\n",
       "        text-align: right;\n",
       "    }\n",
       "</style>\n",
       "<table border=\"1\" class=\"dataframe\">\n",
       "  <thead>\n",
       "    <tr style=\"text-align: right;\">\n",
       "      <th></th>\n",
       "      <th>Filename</th>\n",
       "      <th>Width</th>\n",
       "      <th>Height</th>\n",
       "      <th>Roi.X1</th>\n",
       "      <th>Roi.Y1</th>\n",
       "      <th>Roi.X2</th>\n",
       "      <th>Roi.Y2</th>\n",
       "      <th>ClassId</th>\n",
       "      <th>path</th>\n",
       "    </tr>\n",
       "  </thead>\n",
       "  <tbody>\n",
       "    <tr>\n",
       "      <th>12625</th>\n",
       "      <td>12625.ppm</td>\n",
       "      <td>42</td>\n",
       "      <td>41</td>\n",
       "      <td>5</td>\n",
       "      <td>6</td>\n",
       "      <td>37</td>\n",
       "      <td>36</td>\n",
       "      <td>12</td>\n",
       "      <td>../data/raw/GTSRB_Final_Test_Images/GTSRB/Fina...</td>\n",
       "    </tr>\n",
       "    <tr>\n",
       "      <th>12626</th>\n",
       "      <td>12626.ppm</td>\n",
       "      <td>50</td>\n",
       "      <td>51</td>\n",
       "      <td>6</td>\n",
       "      <td>5</td>\n",
       "      <td>45</td>\n",
       "      <td>46</td>\n",
       "      <td>33</td>\n",
       "      <td>../data/raw/GTSRB_Final_Test_Images/GTSRB/Fina...</td>\n",
       "    </tr>\n",
       "    <tr>\n",
       "      <th>12627</th>\n",
       "      <td>12627.ppm</td>\n",
       "      <td>29</td>\n",
       "      <td>29</td>\n",
       "      <td>6</td>\n",
       "      <td>6</td>\n",
       "      <td>24</td>\n",
       "      <td>24</td>\n",
       "      <td>6</td>\n",
       "      <td>../data/raw/GTSRB_Final_Test_Images/GTSRB/Fina...</td>\n",
       "    </tr>\n",
       "    <tr>\n",
       "      <th>12628</th>\n",
       "      <td>12628.ppm</td>\n",
       "      <td>48</td>\n",
       "      <td>49</td>\n",
       "      <td>5</td>\n",
       "      <td>6</td>\n",
       "      <td>43</td>\n",
       "      <td>44</td>\n",
       "      <td>7</td>\n",
       "      <td>../data/raw/GTSRB_Final_Test_Images/GTSRB/Fina...</td>\n",
       "    </tr>\n",
       "    <tr>\n",
       "      <th>12629</th>\n",
       "      <td>12629.ppm</td>\n",
       "      <td>32</td>\n",
       "      <td>31</td>\n",
       "      <td>6</td>\n",
       "      <td>5</td>\n",
       "      <td>27</td>\n",
       "      <td>26</td>\n",
       "      <td>10</td>\n",
       "      <td>../data/raw/GTSRB_Final_Test_Images/GTSRB/Fina...</td>\n",
       "    </tr>\n",
       "  </tbody>\n",
       "</table>\n",
       "</div>"
      ],
      "text/plain": [
       "        Filename  Width  Height  Roi.X1  Roi.Y1  Roi.X2  Roi.Y2  ClassId  \\\n",
       "12625  12625.ppm     42      41       5       6      37      36       12   \n",
       "12626  12626.ppm     50      51       6       5      45      46       33   \n",
       "12627  12627.ppm     29      29       6       6      24      24        6   \n",
       "12628  12628.ppm     48      49       5       6      43      44        7   \n",
       "12629  12629.ppm     32      31       6       5      27      26       10   \n",
       "\n",
       "                                                    path  \n",
       "12625  ../data/raw/GTSRB_Final_Test_Images/GTSRB/Fina...  \n",
       "12626  ../data/raw/GTSRB_Final_Test_Images/GTSRB/Fina...  \n",
       "12627  ../data/raw/GTSRB_Final_Test_Images/GTSRB/Fina...  \n",
       "12628  ../data/raw/GTSRB_Final_Test_Images/GTSRB/Fina...  \n",
       "12629  ../data/raw/GTSRB_Final_Test_Images/GTSRB/Fina...  "
      ]
     },
     "execution_count": 38,
     "metadata": {},
     "output_type": "execute_result"
    }
   ],
   "source": [
    "test_images_df = pd.read_csv('../data/raw/GTSRB_Final_Test_GT/GT-final_test.csv', sep=';')\n",
    "test_images_df['path'] = test_images_df['Filename'].apply(lambda x: '../data/raw/GTSRB_Final_Test_Images/GTSRB/Final_Test/Images/' + x)\n",
    "test_images_df.tail()"
   ]
  },
  {
   "cell_type": "code",
   "execution_count": 23,
   "id": "reverse-number",
   "metadata": {},
   "outputs": [],
   "source": [
    "test_list = build_images_list(test_images_df['path'].values,\n",
    "                              test_images_df.apply(lambda r: (r['Roi.X1'], r['Roi.Y1'], r['Roi.X2'], r['Roi.Y2']),\n",
    "                                                   axis=1).values)\n",
    "test_data = np.array(test_list)\n",
    "test_labels = build_classes_array(test_images_df)\n"
   ]
  },
  {
   "cell_type": "code",
   "execution_count": 28,
   "id": "compressed-jacksonville",
   "metadata": {},
   "outputs": [
    {
     "name": "stdout",
     "output_type": "stream",
     "text": [
      "(12630, 2700) (12630, 30, 30, 3) (12630,)\n"
     ]
    }
   ],
   "source": [
    "test_data_svm = test_data.reshape(test_data.shape[0], -1)\n",
    "\n",
    "print(test_data_svm.shape, test_data.shape, test_labels.shape)"
   ]
  },
  {
   "cell_type": "code",
   "execution_count": 39,
   "id": "extreme-relief",
   "metadata": {},
   "outputs": [],
   "source": [
    "results = classifier_load.predict(test_data_svm)"
   ]
  },
  {
   "cell_type": "code",
   "execution_count": 44,
   "id": "compound-telescope",
   "metadata": {},
   "outputs": [
    {
     "name": "stdout",
     "output_type": "stream",
     "text": [
      "0.8738717339667459\n"
     ]
    }
   ],
   "source": [
    "print((test_labels == results).sum() / test_labels.shape[0])\n",
    "\n",
    "accuracy_df = pd.DataFrame()\n",
    "accuracy_df['actual'] = test_labels\n",
    "accuracy_df['predicted'] = results"
   ]
  },
  {
   "cell_type": "code",
   "execution_count": 53,
   "id": "smoking-migration",
   "metadata": {},
   "outputs": [
    {
     "data": {
      "text/plain": [
       "(12630, 30, 30, 3)"
      ]
     },
     "execution_count": 53,
     "metadata": {},
     "output_type": "execute_result"
    }
   ],
   "source": [
    "test_data.shape"
   ]
  },
  {
   "cell_type": "markdown",
   "id": "elegant-friendly",
   "metadata": {},
   "source": [
    "### Loading neural network"
   ]
  },
  {
   "cell_type": "code",
   "execution_count": 50,
   "id": "copyrighted-accordance",
   "metadata": {},
   "outputs": [],
   "source": [
    "load_nn = load_model('../models/traffic_signs_2021-03-19_13-51-00.h5')"
   ]
  },
  {
   "cell_type": "code",
   "execution_count": 63,
   "id": "hollow-frederick",
   "metadata": {},
   "outputs": [],
   "source": [
    "results_nn = np.argmax(load_nn.predict(test_data), axis=-1)"
   ]
  },
  {
   "cell_type": "code",
   "execution_count": 65,
   "id": "thrown-packaging",
   "metadata": {},
   "outputs": [],
   "source": [
    "accuracy_df['predicted_nn'] = results_nn"
   ]
  },
  {
   "cell_type": "markdown",
   "id": "developing-cancellation",
   "metadata": {},
   "source": [
    "### Predicted data VS real data for each model"
   ]
  },
  {
   "cell_type": "code",
   "execution_count": 76,
   "id": "promising-retreat",
   "metadata": {},
   "outputs": [
    {
     "data": {
      "text/plain": [
       "Text(0.5, 1.0, 'Neural Network')"
      ]
     },
     "execution_count": 76,
     "metadata": {},
     "output_type": "execute_result"
    },
    {
     "data": {
      "image/png": "[encoded data removed]",
      "text/plain": [
       "<Figure size 1296x576 with 2 Axes>"
      ]
     },
     "metadata": {
      "needs_background": "light"
     },
     "output_type": "display_data"
    }
   ],
   "source": [
    "fig, (ax1, ax2) = plt.subplots(ncols=2, figsize=(18, 8))\n",
    "sns.heatmap(pd.crosstab(accuracy_df['actual'], accuracy_df['predicted'], normalize='index'),\n",
    "            cmap='vlag',\n",
    "            cbar = False,\n",
    "            ax=ax1)\n",
    "ax1.set_title('SVM')\n",
    "sns.heatmap(pd.crosstab(accuracy_df['actual'], accuracy_df['predicted_nn'], normalize='index'),\n",
    "            cmap='vlag',\n",
    "            cbar = False,\n",
    "            ax=ax2)\n",
    "ax2.set_title('Neural Network')"
   ]
  },
  {
   "cell_type": "markdown",
   "id": "southeast-combining",
   "metadata": {},
   "source": [
    "Le neural Network donne de meilleurs résultats, malgré quelques erreurs de prédiction. <br>\n",
    "L'entraînement du SVM a été limité par les temps de calculs, avec plus de tuning "
   ]
  }
 ],
 "metadata": {
  "kernelspec": {
   "display_name": "traffic",
   "language": "python",
   "name": "traffic"
  },
  "language_info": {
   "codemirror_mode": {
    "name": "ipython",
    "version": 3
   },
   "file_extension": ".py",
   "mimetype": "text/x-python",
   "name": "python",
   "nbconvert_exporter": "python",
   "pygments_lexer": "ipython3",
   "version": "3.8.8"
  }
 },
 "nbformat": 4,
 "nbformat_minor": 5
}
